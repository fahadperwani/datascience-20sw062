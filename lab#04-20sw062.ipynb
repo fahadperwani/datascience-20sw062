{
 "cells": [
  {
   "cell_type": "markdown",
   "id": "e4306065",
   "metadata": {},
   "source": [
    "# 20SW062 Lab#3"
   ]
  },
  {
   "cell_type": "markdown",
   "id": "3d325f87",
   "metadata": {},
   "source": [
    "# Task#01"
   ]
  },
  {
   "cell_type": "code",
   "execution_count": 3,
   "id": "bfcb0015",
   "metadata": {},
   "outputs": [],
   "source": [
    "import numpy as np"
   ]
  },
  {
   "cell_type": "code",
   "execution_count": 5,
   "id": "9494a30d",
   "metadata": {},
   "outputs": [
    {
     "name": "stdout",
     "output_type": "stream",
     "text": [
      "[[ 2  4  6  8]\n",
      " [10 12 14 16]\n",
      " [18 20 22 24]\n",
      " [26 28 30 32]]\n"
     ]
    }
   ],
   "source": [
    "X = np.arange(2, 33, 2).reshape((4, 4))\n",
    "print(X)"
   ]
  },
  {
   "cell_type": "markdown",
   "id": "a16b1ab0",
   "metadata": {},
   "source": [
    "# Task#02"
   ]
  },
  {
   "cell_type": "code",
   "execution_count": 8,
   "id": "548fc081",
   "metadata": {},
   "outputs": [
    {
     "name": "stdout",
     "output_type": "stream",
     "text": [
      "[ 2  4  6  8 10 12 14 16 18 20 22 24]\n"
     ]
    }
   ],
   "source": [
    "arr = np.arange(1, 26).reshape(5,5)\n",
    "\n",
    "even = arr[arr%2 == 0]\n",
    "print(even)"
   ]
  },
  {
   "cell_type": "code",
   "execution_count": 10,
   "id": "0a1825a3",
   "metadata": {},
   "outputs": [
    {
     "name": "stdout",
     "output_type": "stream",
     "text": [
      "[ 1  3  5  7  9 11 13 15 17 19 21 23 25]\n"
     ]
    }
   ],
   "source": [
    "X = np.arange(1, 26).reshape(5,5)\n",
    "\n",
    "y = arr[X%2 == 1]\n",
    "print(y)"
   ]
  },
  {
   "cell_type": "markdown",
   "id": "20ca0d39",
   "metadata": {},
   "source": [
    "# Task#03"
   ]
  },
  {
   "cell_type": "code",
   "execution_count": 13,
   "id": "c57a9db1",
   "metadata": {},
   "outputs": [
    {
     "name": "stdout",
     "output_type": "stream",
     "text": [
      "[[1. 2. 3. 4.]\n",
      " [1. 2. 3. 4.]\n",
      " [1. 2. 3. 4.]\n",
      " [1. 2. 3. 4.]]\n"
     ]
    }
   ],
   "source": [
    "X = np.array([1, 2, 3, 4]) + np.zeros((4,4))\n",
    "print(X)"
   ]
  },
  {
   "cell_type": "code",
   "execution_count": null,
   "id": "4aeef271",
   "metadata": {},
   "outputs": [],
   "source": []
  }
 ],
 "metadata": {
  "kernelspec": {
   "display_name": "Python 3 (ipykernel)",
   "language": "python",
   "name": "python3"
  },
  "language_info": {
   "codemirror_mode": {
    "name": "ipython",
    "version": 3
   },
   "file_extension": ".py",
   "mimetype": "text/x-python",
   "name": "python",
   "nbconvert_exporter": "python",
   "pygments_lexer": "ipython3",
   "version": "3.10.9"
  }
 },
 "nbformat": 4,
 "nbformat_minor": 5
}
