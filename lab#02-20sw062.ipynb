{
 "cells": [
  {
   "cell_type": "code",
   "execution_count": 1,
   "id": "753b1171",
   "metadata": {},
   "outputs": [
    {
     "name": "stdout",
     "output_type": "stream",
     "text": [
      "You won water-thin mint\n"
     ]
    }
   ],
   "source": [
    "points = 174 # use this input to make your submission\n",
    "result = 'You won '\n",
    "\n",
    "if points>0 and points<=50:\n",
    "    result+='wooden rabbit'\n",
    "elif points<=150:\n",
    "    result+='no prize'\n",
    "elif points<=180:\n",
    "    result+='water-thin mint'\n",
    "elif points<=200:\n",
    "    result+='penguin'\n",
    "\n",
    "print(result)\n"
   ]
  },
  {
   "cell_type": "code",
   "execution_count": 3,
   "id": "041ce6ec",
   "metadata": {},
   "outputs": [
    {
     "name": "stdout",
     "output_type": "stream",
     "text": [
      "Take a guess: 9\n",
      "Nice! Your guess matched the answer!\n"
     ]
    }
   ],
   "source": [
    "answer = 9\n",
    "guess = int(input(\"Take a guess: \"))\n",
    "if guess<answer:\n",
    " result = \"Oops! Your guess was too low.\"\n",
    "elif guess>answer:\n",
    " result = \"Oops! Your guess was too high.\"\n",
    "elif guess == answer:\n",
    " result = \"Nice! Your guess matched the answer!\"\n",
    "\n",
    "print(result)"
   ]
  },
  {
   "cell_type": "code",
   "execution_count": 4,
   "id": "c73b99f7",
   "metadata": {},
   "outputs": [
    {
     "name": "stdout",
     "output_type": "stream",
     "text": [
      "the\n",
      "quick\n",
      "brown\n",
      "fox\n",
      "jumped\n",
      "over\n",
      "the\n",
      "lazy\n",
      "dog\n"
     ]
    }
   ],
   "source": [
    "sentence = [\"the\", \"quick\", \"brown\", \"fox\", \"jumped\", \"over\", \"the\",\n",
    "\"lazy\", \"dog\"]\n",
    "for s in sentence:\n",
    "    print(s)"
   ]
  },
  {
   "cell_type": "code",
   "execution_count": 6,
   "id": "935a89ff",
   "metadata": {},
   "outputs": [
    {
     "name": "stdout",
     "output_type": "stream",
     "text": [
      "5\n",
      "10\n",
      "15\n",
      "20\n",
      "25\n",
      "30\n"
     ]
    }
   ],
   "source": [
    "for i in range(5, 31, 5):\n",
    "    print(i)"
   ]
  },
  {
   "cell_type": "code",
   "execution_count": 8,
   "id": "a9015861",
   "metadata": {},
   "outputs": [
    {
     "name": "stdout",
     "output_type": "stream",
     "text": [
      "['Rick', 'Morty', 'Summer', 'Jerry', 'Beth']\n"
     ]
    }
   ],
   "source": [
    "names = [\"Rick Sanchez\", \"Morty Smith\", \"Summer Smith\", \"Jerry Smith\", \"Beth Smith\"]\n",
    "first_names = [i.split(' ')[0] for i in names]\n",
    "print(first_names)\n"
   ]
  },
  {
   "cell_type": "code",
   "execution_count": 9,
   "id": "3e02d746",
   "metadata": {},
   "outputs": [
    {
     "name": "stdout",
     "output_type": "stream",
     "text": [
      "3\n",
      "6\n",
      "9\n",
      "12\n",
      "15\n",
      "18\n",
      "21\n",
      "24\n",
      "27\n",
      "30\n",
      "33\n",
      "36\n",
      "39\n",
      "42\n",
      "45\n",
      "48\n",
      "51\n",
      "54\n",
      "57\n",
      "60\n"
     ]
    }
   ],
   "source": [
    "for i in range(3, 3*21, 3):\n",
    "    print(i)"
   ]
  },
  {
   "cell_type": "code",
   "execution_count": 10,
   "id": "46b115b7",
   "metadata": {},
   "outputs": [
    {
     "name": "stdout",
     "output_type": "stream",
     "text": [
      "['Rick Sanchez', 'Summer Smith', 'Beth Smith']\n"
     ]
    }
   ],
   "source": [
    "scores = {\n",
    " \"Rick Sanchez\": 70,\n",
    " \"Morty Smith\": 35,\n",
    " \"Summer Smith\": 82,\n",
    " \"Jerry Smith\": 23,\n",
    " \"Beth Smith\": 98\n",
    " }\n",
    "passed = [n for n,s in scores.items() if s>=65]\n",
    "print(passed)\n"
   ]
  },
  {
   "cell_type": "code",
   "execution_count": 11,
   "id": "36a52300",
   "metadata": {},
   "outputs": [
    {
     "name": "stdout",
     "output_type": "stream",
     "text": [
      "{'Barney': 72, 'Robin': 68, 'Ted': 72, 'Lily': 66, 'Marshall': 76}\n"
     ]
    }
   ],
   "source": [
    "cast_names = [\"Barney\", \"Robin\", \"Ted\", \"Lily\", \"Marshall\"]\n",
    "cast_heights = [72, 68, 72, 66, 76]\n",
    "cast = {i: j for i,j in zip(cast_names, cast_heights)}\n",
    "print(cast)"
   ]
  },
  {
   "cell_type": "code",
   "execution_count": 15,
   "id": "7a9465d8",
   "metadata": {},
   "outputs": [
    {
     "name": "stdout",
     "output_type": "stream",
     "text": [
      "['Barney Stinson 72', 'Robin Scherbatsky 68', 'Ted Mosby 72', 'Lily Aldrin 66', 'Marshall Eriksen 76']\n"
     ]
    }
   ],
   "source": [
    "cast = [\"Barney Stinson\", \"Robin Scherbatsky\", \"Ted Mosby\",\n",
    "\"Lily Aldrin\", \"Marshall Eriksen\"]\n",
    "heights = [72, 68, 72, 66, 76]\n",
    "for i,n in enumerate(cast):\n",
    "    cast[i] = cast[i] + ' ' + str(heights[i])\n",
    "print(cast)"
   ]
  },
  {
   "cell_type": "code",
   "execution_count": null,
   "id": "298febd2",
   "metadata": {},
   "outputs": [],
   "source": []
  }
 ],
 "metadata": {
  "kernelspec": {
   "display_name": "Python 3 (ipykernel)",
   "language": "python",
   "name": "python3"
  },
  "language_info": {
   "codemirror_mode": {
    "name": "ipython",
    "version": 3
   },
   "file_extension": ".py",
   "mimetype": "text/x-python",
   "name": "python",
   "nbconvert_exporter": "python",
   "pygments_lexer": "ipython3",
   "version": "3.10.9"
  }
 },
 "nbformat": 4,
 "nbformat_minor": 5
}
