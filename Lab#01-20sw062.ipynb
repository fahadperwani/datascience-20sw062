{
 "cells": [
  {
   "cell_type": "markdown",
   "id": "283ba9dd",
   "metadata": {},
   "source": [
    "# 20SW062\n",
    "\n",
    "## task 01"
   ]
  },
  {
   "cell_type": "code",
   "execution_count": 2,
   "id": "a5110fe5",
   "metadata": {},
   "outputs": [
    {
     "name": "stdout",
     "output_type": "stream",
     "text": [
      "My name is Fahad Ahmed\n"
     ]
    }
   ],
   "source": [
    "x = 'Fahad'\n",
    "y = 'Ahmed'\n",
    "\n",
    "print('My name is {} {}'.format(x, y))"
   ]
  },
  {
   "cell_type": "markdown",
   "id": "47a7a485",
   "metadata": {},
   "source": [
    "## task 02"
   ]
  },
  {
   "cell_type": "code",
   "execution_count": 3,
   "id": "9edcb06f",
   "metadata": {},
   "outputs": [
    {
     "name": "stdout",
     "output_type": "stream",
     "text": [
      "Length of the string: 13\n",
      "Uppercase: HELLO, WORLD!\n",
      "Lowercase: hello, world!\n",
      "Count of 'l': 3\n",
      "Index of 'World': 7\n",
      "Replacing 'Hello' with 'Hi': Hi, World!\n",
      "Starts with 'Hello': True\n",
      "Ends with '!': True\n",
      "Splitting the string: ['Hello', ' World!']\n",
      "Joining substrings: Hello-World-!\n"
     ]
    }
   ],
   "source": [
    "my_string = \"Hello, World!\"\n",
    "\n",
    "print(\"Length of the string:\", len(my_string))\n",
    "print(\"Uppercase:\", my_string.upper())\n",
    "print(\"Lowercase:\", my_string.lower())\n",
    "print(\"Count of 'l':\", my_string.count(\"l\"))\n",
    "print(\"Index of 'World':\", my_string.find(\"World\"))\n",
    "new_string = my_string.replace(\"Hello\", \"Hi\")\n",
    "print(\"Replacing 'Hello' with 'Hi':\", new_string)\n",
    "print(\"Starts with 'Hello':\", my_string.startswith(\"Hello\"))\n",
    "print(\"Ends with '!':\", my_string.endswith(\"!\"))\n",
    "print(\"Splitting the string:\", my_string.split(\",\"))\n",
    "substrings = [\"Hello\", \"World\", \"!\"]\n",
    "print(\"Joining substrings:\", \"-\".join(substrings))\n"
   ]
  },
  {
   "cell_type": "markdown",
   "id": "e74a4827",
   "metadata": {},
   "source": [
    "# task 03"
   ]
  },
  {
   "cell_type": "code",
   "execution_count": 5,
   "id": "9a8c9336",
   "metadata": {},
   "outputs": [
    {
     "name": "stdout",
     "output_type": "stream",
     "text": [
      "31\n"
     ]
    }
   ],
   "source": [
    "month = 12\n",
    "days_in_month = [31, 28, 31, 30, 31, 30, 31, 31, 30, 31, 30, 31]\n",
    "\n",
    "print(days_in_month[month - 1])"
   ]
  },
  {
   "cell_type": "markdown",
   "id": "479b34d7",
   "metadata": {},
   "source": [
    "# task 04"
   ]
  },
  {
   "cell_type": "code",
   "execution_count": 8,
   "id": "99d9b0e0",
   "metadata": {},
   "outputs": [
    {
     "name": "stdout",
     "output_type": "stream",
     "text": [
      "['November 13, 2012', 'March 20, 2015', 'March 9, 2016']\n"
     ]
    }
   ],
   "source": [
    "eclipse_dates = ['June 21, 2001', 'December 4, 2002', 'November 23, 2003',\n",
    " 'March 29, 2006', 'August 1, 2008', 'July 22, 2009',\n",
    " 'July 11, 2010', 'November 13, 2012', 'March 20, 2015',\n",
    " 'March 9, 2016']\n",
    "\n",
    "print(eclipse_dates[-3:])"
   ]
  },
  {
   "cell_type": "markdown",
   "id": "66e4e1c6",
   "metadata": {},
   "source": [
    "## task 05"
   ]
  },
  {
   "cell_type": "code",
   "execution_count": 9,
   "id": "946e9938",
   "metadata": {},
   "outputs": [
    {
     "name": "stdout",
     "output_type": "stream",
     "text": [
      "{'name': 'Fahad', 'age': 20, 'marks': {'English': 200, 'ML': 900}}\n"
     ]
    }
   ],
   "source": [
    "data = {\n",
    "    'name': 'Fahad',\n",
    "    'age': 20,\n",
    "    'marks': {\n",
    "        'English': 200,\n",
    "        'ML': 900\n",
    "    }\n",
    "}\n",
    "\n",
    "print(data)"
   ]
  },
  {
   "cell_type": "code",
   "execution_count": null,
   "id": "bcef3a6c",
   "metadata": {},
   "outputs": [],
   "source": []
  }
 ],
 "metadata": {
  "kernelspec": {
   "display_name": "Python 3 (ipykernel)",
   "language": "python",
   "name": "python3"
  },
  "language_info": {
   "codemirror_mode": {
    "name": "ipython",
    "version": 3
   },
   "file_extension": ".py",
   "mimetype": "text/x-python",
   "name": "python",
   "nbconvert_exporter": "python",
   "pygments_lexer": "ipython3",
   "version": "3.10.9"
  }
 },
 "nbformat": 4,
 "nbformat_minor": 5
}
