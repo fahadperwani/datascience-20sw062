{
 "cells": [
  {
   "cell_type": "markdown",
   "id": "ab574c93",
   "metadata": {},
   "source": [
    "# Task 01"
   ]
  },
  {
   "cell_type": "code",
   "execution_count": 3,
   "id": "6d93c6c6",
   "metadata": {},
   "outputs": [
    {
     "name": "stdout",
     "output_type": "stream",
     "text": [
      "expected result: 10, actual result:10.0\n",
      "expected result: 7123.6902801, actual result:7123.690280065897\n"
     ]
    }
   ],
   "source": [
    "# write your function here\n",
    "def population_density(people, area):\n",
    "    return people/area\n",
    "\n",
    "# test cases for your function\n",
    "test1 = population_density(10, 1)\n",
    "expected_result1 = 10\n",
    "print(\"expected result: {}, actual result:{}\".format(expected_result1, test1))\n",
    "test2 = population_density(864816, 121.4)\n",
    "expected_result2 = 7123.6902801\n",
    "print(\"expected result: {}, actual result:{}\".format(expected_result2, test2))"
   ]
  },
  {
   "cell_type": "markdown",
   "id": "de4a11c6",
   "metadata": {},
   "source": [
    "# Task 02"
   ]
  },
  {
   "cell_type": "code",
   "execution_count": 5,
   "id": "0e6b6f58",
   "metadata": {},
   "outputs": [
    {
     "name": "stdout",
     "output_type": "stream",
     "text": [
      "$1 week(s) and $3 day(s)\n"
     ]
    }
   ],
   "source": [
    "# write your function here\n",
    "def readable_timedelta(days):\n",
    "    weeks = days//7\n",
    "    days = days%7\n",
    "    return f'${weeks} week(s) and ${days} day(s)'\n",
    "\n",
    "# test your function\n",
    "print(readable_timedelta(10))"
   ]
  },
  {
   "cell_type": "markdown",
   "id": "6a650ee3",
   "metadata": {},
   "source": [
    "# Task 03"
   ]
  },
  {
   "cell_type": "code",
   "execution_count": 7,
   "id": "08bbdde2",
   "metadata": {},
   "outputs": [
    {
     "name": "stdout",
     "output_type": "stream",
     "text": [
      "[57.0, 58.2, 50.6, 27.2]\n"
     ]
    }
   ],
   "source": [
    "numbers = [\n",
    " [34, 63, 88, 71, 29],\n",
    " [90, 78, 51, 27, 45],\n",
    " [63, 37, 85, 46, 22],\n",
    " [51, 22, 34, 11, 18]\n",
    " ]\n",
    "mean = lambda num_list: sum(num_list)/len(num_list)\n",
    "averages = list(map(mean, numbers))\n",
    "print(averages)\n"
   ]
  },
  {
   "cell_type": "markdown",
   "id": "da7fc6c7",
   "metadata": {},
   "source": [
    "# Task 04"
   ]
  },
  {
   "cell_type": "code",
   "execution_count": 9,
   "id": "c7e442ac",
   "metadata": {},
   "outputs": [
    {
     "name": "stdout",
     "output_type": "stream",
     "text": [
      "['Chicago', 'Denver', 'Boston']\n"
     ]
    }
   ],
   "source": [
    "cities = [\"New York City\", \"Los Angeles\", \"Chicago\", \"Mountain View\", \"Denver\", \"Boston\"]\n",
    "\n",
    "is_short = lambda name: len(name) < 10\n",
    "\n",
    "short_cities = list(filter(is_short, cities))\n",
    "print(short_cities)\n"
   ]
  },
  {
   "cell_type": "markdown",
   "id": "64b5b269",
   "metadata": {},
   "source": [
    "# Task 05"
   ]
  },
  {
   "cell_type": "code",
   "execution_count": 24,
   "id": "4c28e2fa",
   "metadata": {},
   "outputs": [
    {
     "name": "stdout",
     "output_type": "stream",
     "text": [
      "Enter names seperated by commas: Fahad, Usama\n",
      "Enter Number of missing assignments seperated by commas: 8, 5\n",
      "Enter grades seperated by commas: 87, 62\n",
      "[87, 62]\n",
      "Hi Fahad,\n",
      "\n",
      "This is a reminder that you have 8 assignments leftto \\ submit before you can graduate. You're current grade is 87 and can increase\\ to 103 if you submit all assignments before the due date.\n",
      "\n",
      "\n",
      "Hi Usama,\n",
      "\n",
      "This is a reminder that you have 5 assignments leftto \\ submit before you can graduate. You're current grade is 62 and can increase\\ to 72 if you submit all assignments before the due date.\n",
      "\n",
      "\n"
     ]
    }
   ],
   "source": [
    "names = list(map(str.strip, input('Enter names seperated by commas: ').split(',')))\n",
    "assignments = list(map(int, input(\"Enter Number of missing assignments seperated by commas: \").split(',')))\n",
    "grades = list(map(int, input(\"Enter grades seperated by commas: \").split(',')))\n",
    "# message string to be used for each student\n",
    "# HINT: use .format() with this string in your for loop\n",
    "message = \"Hi {},\\n\\nThis is a reminder that you have {} assignments leftto \\ submit before you can graduate. You're current grade is {} and can increase\\ to {} if you submit all assignments before the due date.\\n\\n\"\n",
    "\n",
    "# write a for loop that iterates through each set of names, assignments, and grades to print each student's message\n",
    "for i,j,k in zip(names, assignments, grades):\n",
    "#     print(message)\n",
    "    print(message.format(i, j, k, str(2*j+k)))\n"
   ]
  },
  {
   "cell_type": "markdown",
   "id": "463030d0",
   "metadata": {},
   "source": [
    "# Task 06"
   ]
  },
  {
   "cell_type": "markdown",
   "id": "3c24d9ea",
   "metadata": {},
   "source": [
    "def create_cast_list(filename):\n",
    "    cast_list = []\n",
    " #use with to open the file filename\n",
    "    with open(filename) as f:\n",
    "        for l in f:\n",
    "            l = l.split(',')[0]\n",
    "            cast_list.append(l)\n",
    "    return cast_list\n",
    "cast_list = create_cast_list('flying_circus_cast.txt')\n",
    "for actor in cast_list:\n",
    " print(actor)"
   ]
  },
  {
   "cell_type": "code",
   "execution_count": null,
   "id": "dcb87611",
   "metadata": {},
   "outputs": [],
   "source": []
  }
 ],
 "metadata": {
  "kernelspec": {
   "display_name": "Python 3 (ipykernel)",
   "language": "python",
   "name": "python3"
  },
  "language_info": {
   "codemirror_mode": {
    "name": "ipython",
    "version": 3
   },
   "file_extension": ".py",
   "mimetype": "text/x-python",
   "name": "python",
   "nbconvert_exporter": "python",
   "pygments_lexer": "ipython3",
   "version": "3.10.9"
  }
 },
 "nbformat": 4,
 "nbformat_minor": 5
}
