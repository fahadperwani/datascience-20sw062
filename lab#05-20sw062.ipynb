{
 "cells": [
  {
   "cell_type": "markdown",
   "id": "262f1a0e",
   "metadata": {},
   "source": [
    "# Task#01"
   ]
  },
  {
   "cell_type": "code",
   "execution_count": 2,
   "id": "7ae816f3",
   "metadata": {},
   "outputs": [
    {
     "data": {
      "text/html": [
       "<div>\n",
       "<style scoped>\n",
       "    .dataframe tbody tr th:only-of-type {\n",
       "        vertical-align: middle;\n",
       "    }\n",
       "\n",
       "    .dataframe tbody tr th {\n",
       "        vertical-align: top;\n",
       "    }\n",
       "\n",
       "    .dataframe thead th {\n",
       "        text-align: right;\n",
       "    }\n",
       "</style>\n",
       "<table border=\"1\" class=\"dataframe\">\n",
       "  <thead>\n",
       "    <tr style=\"text-align: right;\">\n",
       "      <th></th>\n",
       "      <th>0</th>\n",
       "    </tr>\n",
       "  </thead>\n",
       "  <tbody>\n",
       "    <tr>\n",
       "      <th>Earth</th>\n",
       "      <td>149.6</td>\n",
       "    </tr>\n",
       "    <tr>\n",
       "      <th>Saturn</th>\n",
       "      <td>1433.5</td>\n",
       "    </tr>\n",
       "    <tr>\n",
       "      <th>Mars</th>\n",
       "      <td>227.9</td>\n",
       "    </tr>\n",
       "    <tr>\n",
       "      <th>Venus</th>\n",
       "      <td>108.2</td>\n",
       "    </tr>\n",
       "    <tr>\n",
       "      <th>Jupiter</th>\n",
       "      <td>778.6</td>\n",
       "    </tr>\n",
       "  </tbody>\n",
       "</table>\n",
       "</div>"
      ],
      "text/plain": [
       "              0\n",
       "Earth     149.6\n",
       "Saturn   1433.5\n",
       "Mars      227.9\n",
       "Venus     108.2\n",
       "Jupiter   778.6"
      ]
     },
     "execution_count": 2,
     "metadata": {},
     "output_type": "execute_result"
    }
   ],
   "source": [
    "import pandas as pd\n",
    "\n",
    "# Create a Pandas Series that contains the distance of some planets from the Sun.\n",
    "\n",
    "# Use the name of the planets as the index to your Pandas Series, and the distance\n",
    "\n",
    "# from the Sun as your data. The distance from the Sun is in units of 10^6 km\n",
    "\n",
    "distance_from_sun = [149.6, 1433.5, 227.9, 108.2, 778.6]\n",
    "\n",
    "planets = ['Earth','Saturn', 'Mars','Venus', 'Jupiter']\n",
    "\n",
    "# Create a Pandas Series using the above data, with the name of the planets as\n",
    "\n",
    "# the index and the distance from the Sun as your data.\n",
    "\n",
    "dist_planets = pd.DataFrame(index=planets, data=distance_from_sun)\n",
    "dist_planets"
   ]
  },
  {
   "cell_type": "code",
   "execution_count": 9,
   "id": "51011b69",
   "metadata": {},
   "outputs": [],
   "source": [
    "# Calculate the number of minutes it takes sunlight to reach each planet. You can\n",
    "\n",
    "# do this by dividing the distance from the Sun for each planet by the speed of light.\n",
    "\n",
    "# Since in the data above the distance from the Sun is in units of 10^6 km, you can\n",
    "\n",
    "# use a value for the speed of light of c = 18, since light travels 18 x 10^6 km/minute.\n",
    "\n",
    "time_light = dist_planets/18\n",
    "\n",
    "# Use Boolean indexing to select only those planets for which sunlight takes less\n",
    "\n",
    "# than 40 minutes to reach them.\n",
    "\n",
    "close_planets = time_light[time_light[0] <  40]"
   ]
  },
  {
   "cell_type": "code",
   "execution_count": 10,
   "id": "93b98238",
   "metadata": {},
   "outputs": [
    {
     "data": {
      "text/html": [
       "<div>\n",
       "<style scoped>\n",
       "    .dataframe tbody tr th:only-of-type {\n",
       "        vertical-align: middle;\n",
       "    }\n",
       "\n",
       "    .dataframe tbody tr th {\n",
       "        vertical-align: top;\n",
       "    }\n",
       "\n",
       "    .dataframe thead th {\n",
       "        text-align: right;\n",
       "    }\n",
       "</style>\n",
       "<table border=\"1\" class=\"dataframe\">\n",
       "  <thead>\n",
       "    <tr style=\"text-align: right;\">\n",
       "      <th></th>\n",
       "      <th>0</th>\n",
       "    </tr>\n",
       "  </thead>\n",
       "  <tbody>\n",
       "    <tr>\n",
       "      <th>Earth</th>\n",
       "      <td>8.311111</td>\n",
       "    </tr>\n",
       "    <tr>\n",
       "      <th>Mars</th>\n",
       "      <td>12.661111</td>\n",
       "    </tr>\n",
       "    <tr>\n",
       "      <th>Venus</th>\n",
       "      <td>6.011111</td>\n",
       "    </tr>\n",
       "  </tbody>\n",
       "</table>\n",
       "</div>"
      ],
      "text/plain": [
       "               0\n",
       "Earth   8.311111\n",
       "Mars   12.661111\n",
       "Venus   6.011111"
      ]
     },
     "execution_count": 10,
     "metadata": {},
     "output_type": "execute_result"
    }
   ],
   "source": [
    "close_planets"
   ]
  },
  {
   "cell_type": "markdown",
   "id": "6c7a755a",
   "metadata": {},
   "source": [
    "# Task#02"
   ]
  },
  {
   "cell_type": "code",
   "execution_count": 22,
   "id": "1778cc99",
   "metadata": {},
   "outputs": [
    {
     "name": "stderr",
     "output_type": "stream",
     "text": [
      "C:\\Users\\HP\\AppData\\Local\\Temp\\ipykernel_7992\\2566845432.py:68: FutureWarning: The default value of numeric_only in DataFrame.mean is deprecated. In a future version, it will default to False. In addition, specifying 'numeric_only=None' is deprecated. Select only valid columns or specify the value of numeric_only to silence this warning.\n",
      "  book_ratings.fillna(book_ratings.mean(), inplace=True)\n"
     ]
    }
   ],
   "source": [
    "import pandas as pd\n",
    "\n",
    "import numpy as np\n",
    "\n",
    "# Since we will be working with ratings, we will set the precision of our\n",
    "\n",
    "# dataframes to one decimal place.\n",
    "\n",
    "pd.options.display.float_format = '{:.1f}'.format\n",
    "\n",
    "# Create a Pandas DataFrame that contains the ratings some users have given to a\n",
    "\n",
    "# series of books. The ratings given are in the range from 1 to 5, with 5 being\n",
    "\n",
    "# the best score. The names of the books, the authors, and the ratings of each user\n",
    "\n",
    "# are given below:\n",
    "\n",
    "books = pd.Series(data = ['Great Expectations', 'Of Mice and Men', 'Romeo and Juliet', 'The Time Machine', 'Alice in Wonderland' ])\n",
    "\n",
    "authors = pd.Series(data = ['Charles Dickens', 'John Steinbeck', 'William Shakespeare', ' H. G. Wells', 'Lewis Carroll' ])\n",
    "\n",
    "user_1 = pd.Series(data = [3.2, np.nan ,2.5])\n",
    "\n",
    "user_2 = pd.Series(data = [5., 1.3, 4.0, 3.8])\n",
    "\n",
    "user_3 = pd.Series(data = [2.0, 2.3, np.nan, 4])\n",
    "\n",
    "user_4 = pd.Series(data = [4, 3.5, 4, 5, 4.2])\n",
    "\n",
    "# Users that have np.nan values means that the user has not yet rated that book.\n",
    "\n",
    "# Use the data above to create a Pandas DataFrame that has the following column\n",
    "# labels: 'Author', 'Book Title', 'User 1', 'User 2', 'User 3', 'User 4'. Let Pandas\n",
    "\n",
    "# automatically assign numerical row indices to the DataFrame.\n",
    "\n",
    "\n",
    "\n",
    "# Create a dictionary with the data given above\n",
    "\n",
    "\n",
    "data = {\n",
    "    'Author': authors,\n",
    "       'Book Title': books,\n",
    "       'User 1': user_1,\n",
    "        'User 2': user_2,\n",
    "        'User 3': user_3,\n",
    "    'User 4': user_4\n",
    "       }\n",
    "\n",
    "\n",
    "# Use the dictionary to create a Pandas DataFrame\n",
    "\n",
    "book_ratings = pd.DataFrame(data=data)\n",
    "\n",
    "# If you created the dictionary correctly you should have a Pandas DataFrame\n",
    "\n",
    "# that has column labels: 'Author', 'Book Title', 'User 1', 'User 2', 'User 3',\n",
    "\n",
    "# 'User 4' and row indices 0 through 4.\n",
    "\n",
    "# Now replace all the NaN values in your DataFrame with the average rating in\n",
    "\n",
    "# each column. Replace the NaN values in place. HINT: you can use the fillna()\n",
    "\n",
    "# function with the keyword inplace = True, to do this. Write your code below:\n",
    "book_ratings.fillna(book_ratings.mean(), inplace=True)\n",
    "\n",
    "best_rated = book_ratings[(book_ratings == 5).any(axis = 1)]['Book Title'].values"
   ]
  },
  {
   "cell_type": "code",
   "execution_count": null,
   "id": "d63b9587",
   "metadata": {},
   "outputs": [],
   "source": []
  }
 ],
 "metadata": {
  "kernelspec": {
   "display_name": "Python 3 (ipykernel)",
   "language": "python",
   "name": "python3"
  },
  "language_info": {
   "codemirror_mode": {
    "name": "ipython",
    "version": 3
   },
   "file_extension": ".py",
   "mimetype": "text/x-python",
   "name": "python",
   "nbconvert_exporter": "python",
   "pygments_lexer": "ipython3",
   "version": "3.10.9"
  }
 },
 "nbformat": 4,
 "nbformat_minor": 5
}
